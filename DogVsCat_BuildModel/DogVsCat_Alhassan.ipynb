{
 "cells": [
  {
   "cell_type": "code",
   "execution_count": 1,
   "id": "f1f00a93",
   "metadata": {},
   "outputs": [],
   "source": [
    "# Load the TensorBoard notebook extension.\n",
    "%load_ext tensorboard"
   ]
  },
  {
   "cell_type": "code",
   "execution_count": 2,
   "id": "6a6e3cc1",
   "metadata": {},
   "outputs": [],
   "source": [
    "from silence_tensorflow import silence_tensorflow\n",
    "silence_tensorflow()\n",
    "import numpy as np\n",
    "import pandas as pd\n",
    "from keras.models import Sequential\n",
    "from keras.optimizers import adam_v2\n",
    "\n",
    "from keras.regularizers import l2\n",
    "from keras.layers import Dense, Dropout\n",
    "import matplotlib.pyplot as plt\n",
    "import tensorboard\n",
    "from tensorflow import keras\n",
    "import datetime\n",
    "\n",
    "%matplotlib inline"
   ]
  },
  {
   "cell_type": "code",
   "execution_count": 3,
   "id": "7bc8faa1",
   "metadata": {},
   "outputs": [
    {
     "name": "stdout",
     "output_type": "stream",
     "text": [
      "Model: \"sequential\"\n",
      "_________________________________________________________________\n",
      " Layer (type)                Output Shape              Param #   \n",
      "=================================================================\n",
      " dense (Dense)               (None, 128)               65664     \n",
      "                                                                 \n",
      " dropout (Dropout)           (None, 128)               0         \n",
      "                                                                 \n",
      " dense_1 (Dense)             (None, 1)                 129       \n",
      "                                                                 \n",
      "=================================================================\n",
      "Total params: 65,793\n",
      "Trainable params: 65,793\n",
      "Non-trainable params: 0\n",
      "_________________________________________________________________\n"
     ]
    }
   ],
   "source": [
    "clf_model =  Sequential()\n",
    "\n",
    "clf_model.add(Dense(128, activation='relu', input_dim=512,\n",
    "                    kernel_regularizer=l2(0.001)))\n",
    "clf_model.add(Dropout(0.3))\n",
    "\n",
    "clf_model.add(Dense(1, activation='sigmoid'))\n",
    "\n",
    "clf_model.summary()\n",
    "\n",
    "clf_model.compile(optimizer=adam_v2.Adam(learning_rate=0.0001), \n",
    "                  loss='binary_crossentropy', metrics=['acc'])"
   ]
  },
  {
   "cell_type": "code",
   "execution_count": 4,
   "id": "440ae082",
   "metadata": {},
   "outputs": [],
   "source": [
    "X_train= np.load('trained_data/X_train.npy')\n",
    "y_train=np.load('trained_data/y_train.npy')\n",
    "X_val=np.load('trained_data/X_val.npy')\n",
    "y_val=np.load('trained_data/y_val.npy')"
   ]
  },
  {
   "cell_type": "code",
   "execution_count": 5,
   "id": "86d12277",
   "metadata": {},
   "outputs": [],
   "source": [
    "def plot_history(history):\n",
    "    fig, axs = plt.subplots(2)\n",
    "    # Plot both Loss & Accuracy in Subplot\n",
    "  # creat accuracy plot\n",
    "    axs[0].plot(history.history['acc'], label='train accuracy')\n",
    "    axs[0].plot(history.history['val_acc'], label='test accuracy')\n",
    "    axs[0].set_ylabel('Accuracy')\n",
    "    axs[0].legend(loc='best')\n",
    "    axs[0].set_title('Accuracy eval')\n",
    "\n",
    "  # creat loss plot\n",
    "    axs[1].plot(history.history['loss'], label='train loss')\n",
    "    axs[1].plot(history.history['val_loss'], label='test loss')\n",
    "    axs[1].set_ylabel('Loss')\n",
    "    axs[1].set_xlabel('Epoch')\n",
    "    axs[1].legend(loc='best')\n",
    "    axs[1].set_title('Loss eval')\n",
    "\n",
    "    plt.show()"
   ]
  },
  {
   "cell_type": "code",
   "execution_count": 6,
   "id": "2023db79",
   "metadata": {
    "scrolled": true
   },
   "outputs": [
    {
     "name": "stdout",
     "output_type": "stream",
     "text": [
      "Epoch 1/50\n",
      "60/60 - 1s - loss: 0.9075 - acc: 0.5944 - val_loss: 0.7860 - val_acc: 0.7000 - 971ms/epoch - 16ms/step\n",
      "Epoch 2/50\n",
      "60/60 - 0s - loss: 0.8317 - acc: 0.6611 - val_loss: 0.6729 - val_acc: 0.7818 - 205ms/epoch - 3ms/step\n",
      "Epoch 3/50\n",
      "60/60 - 0s - loss: 0.6608 - acc: 0.8111 - val_loss: 0.6233 - val_acc: 0.8000 - 204ms/epoch - 3ms/step\n",
      "Epoch 4/50\n",
      "60/60 - 0s - loss: 0.6142 - acc: 0.7889 - val_loss: 0.5600 - val_acc: 0.8500 - 210ms/epoch - 3ms/step\n",
      "Epoch 5/50\n",
      "60/60 - 0s - loss: 0.6036 - acc: 0.7833 - val_loss: 0.5316 - val_acc: 0.8727 - 308ms/epoch - 5ms/step\n",
      "Epoch 6/50\n",
      "60/60 - 0s - loss: 0.5216 - acc: 0.8389 - val_loss: 0.5277 - val_acc: 0.8773 - 327ms/epoch - 5ms/step\n",
      "Epoch 7/50\n",
      "60/60 - 1s - loss: 0.5334 - acc: 0.8278 - val_loss: 0.5313 - val_acc: 0.8409 - 517ms/epoch - 9ms/step\n",
      "Epoch 8/50\n",
      "60/60 - 0s - loss: 0.4821 - acc: 0.8722 - val_loss: 0.4776 - val_acc: 0.9045 - 345ms/epoch - 6ms/step\n",
      "Epoch 9/50\n",
      "60/60 - 0s - loss: 0.4491 - acc: 0.8944 - val_loss: 0.4590 - val_acc: 0.9000 - 381ms/epoch - 6ms/step\n",
      "Epoch 10/50\n",
      "60/60 - 0s - loss: 0.4500 - acc: 0.9056 - val_loss: 0.4698 - val_acc: 0.8818 - 458ms/epoch - 8ms/step\n",
      "Epoch 11/50\n",
      "60/60 - 0s - loss: 0.3900 - acc: 0.9389 - val_loss: 0.4393 - val_acc: 0.9000 - 316ms/epoch - 5ms/step\n",
      "Epoch 12/50\n",
      "60/60 - 0s - loss: 0.3904 - acc: 0.9389 - val_loss: 0.4336 - val_acc: 0.9136 - 366ms/epoch - 6ms/step\n",
      "Epoch 13/50\n",
      "60/60 - 0s - loss: 0.3690 - acc: 0.9500 - val_loss: 0.4475 - val_acc: 0.9000 - 279ms/epoch - 5ms/step\n",
      "Epoch 14/50\n",
      "60/60 - 0s - loss: 0.3684 - acc: 0.9444 - val_loss: 0.4223 - val_acc: 0.9136 - 454ms/epoch - 8ms/step\n",
      "Epoch 15/50\n",
      "60/60 - 0s - loss: 0.3620 - acc: 0.9278 - val_loss: 0.4363 - val_acc: 0.9000 - 297ms/epoch - 5ms/step\n",
      "Epoch 16/50\n",
      "60/60 - 0s - loss: 0.3226 - acc: 0.9778 - val_loss: 0.4052 - val_acc: 0.9136 - 339ms/epoch - 6ms/step\n",
      "Epoch 17/50\n",
      "60/60 - 0s - loss: 0.3050 - acc: 0.9611 - val_loss: 0.4011 - val_acc: 0.9136 - 300ms/epoch - 5ms/step\n",
      "Epoch 18/50\n",
      "60/60 - 0s - loss: 0.3352 - acc: 0.9556 - val_loss: 0.4278 - val_acc: 0.9000 - 294ms/epoch - 5ms/step\n",
      "Epoch 19/50\n",
      "60/60 - 0s - loss: 0.3024 - acc: 0.9611 - val_loss: 0.4248 - val_acc: 0.9045 - 311ms/epoch - 5ms/step\n",
      "Epoch 20/50\n",
      "60/60 - 0s - loss: 0.3027 - acc: 0.9611 - val_loss: 0.3947 - val_acc: 0.9227 - 291ms/epoch - 5ms/step\n",
      "Epoch 21/50\n",
      "60/60 - 0s - loss: 0.2980 - acc: 0.9778 - val_loss: 0.3885 - val_acc: 0.9091 - 284ms/epoch - 5ms/step\n",
      "Epoch 22/50\n",
      "60/60 - 0s - loss: 0.3021 - acc: 0.9667 - val_loss: 0.3854 - val_acc: 0.9091 - 276ms/epoch - 5ms/step\n",
      "Epoch 23/50\n",
      "60/60 - 0s - loss: 0.2771 - acc: 0.9833 - val_loss: 0.4108 - val_acc: 0.9091 - 278ms/epoch - 5ms/step\n",
      "Epoch 24/50\n",
      "60/60 - 0s - loss: 0.2674 - acc: 0.9778 - val_loss: 0.3898 - val_acc: 0.9136 - 295ms/epoch - 5ms/step\n",
      "Epoch 25/50\n",
      "60/60 - 0s - loss: 0.2661 - acc: 0.9833 - val_loss: 0.3940 - val_acc: 0.9227 - 267ms/epoch - 4ms/step\n",
      "Epoch 26/50\n",
      "60/60 - 0s - loss: 0.2519 - acc: 1.0000 - val_loss: 0.3924 - val_acc: 0.9182 - 309ms/epoch - 5ms/step\n",
      "Epoch 27/50\n",
      "60/60 - 0s - loss: 0.2456 - acc: 0.9833 - val_loss: 0.3883 - val_acc: 0.9045 - 361ms/epoch - 6ms/step\n",
      "Epoch 28/50\n",
      "60/60 - 0s - loss: 0.2483 - acc: 0.9889 - val_loss: 0.3776 - val_acc: 0.9045 - 442ms/epoch - 7ms/step\n",
      "Epoch 29/50\n",
      "60/60 - 0s - loss: 0.2609 - acc: 0.9833 - val_loss: 0.3716 - val_acc: 0.9045 - 269ms/epoch - 4ms/step\n",
      "Epoch 30/50\n",
      "60/60 - 0s - loss: 0.2342 - acc: 0.9889 - val_loss: 0.4715 - val_acc: 0.8727 - 206ms/epoch - 3ms/step\n",
      "Epoch 31/50\n",
      "60/60 - 0s - loss: 0.2384 - acc: 0.9889 - val_loss: 0.3712 - val_acc: 0.9045 - 220ms/epoch - 4ms/step\n",
      "Epoch 32/50\n",
      "60/60 - 0s - loss: 0.2339 - acc: 0.9944 - val_loss: 0.3675 - val_acc: 0.9000 - 231ms/epoch - 4ms/step\n",
      "Epoch 33/50\n",
      "60/60 - 0s - loss: 0.2237 - acc: 1.0000 - val_loss: 0.3777 - val_acc: 0.9045 - 280ms/epoch - 5ms/step\n",
      "Epoch 34/50\n",
      "60/60 - 1s - loss: 0.2200 - acc: 0.9944 - val_loss: 0.3720 - val_acc: 0.9091 - 556ms/epoch - 9ms/step\n",
      "Epoch 35/50\n",
      "60/60 - 0s - loss: 0.2158 - acc: 1.0000 - val_loss: 0.3748 - val_acc: 0.9000 - 411ms/epoch - 7ms/step\n",
      "Epoch 36/50\n",
      "60/60 - 0s - loss: 0.2216 - acc: 0.9833 - val_loss: 0.3799 - val_acc: 0.9091 - 238ms/epoch - 4ms/step\n",
      "Epoch 37/50\n",
      "60/60 - 0s - loss: 0.2095 - acc: 0.9944 - val_loss: 0.3927 - val_acc: 0.9091 - 351ms/epoch - 6ms/step\n",
      "Epoch 38/50\n",
      "60/60 - 0s - loss: 0.2087 - acc: 0.9944 - val_loss: 0.3954 - val_acc: 0.9091 - 297ms/epoch - 5ms/step\n",
      "Epoch 39/50\n",
      "60/60 - 0s - loss: 0.2068 - acc: 0.9889 - val_loss: 0.3761 - val_acc: 0.9045 - 278ms/epoch - 5ms/step\n",
      "Epoch 40/50\n",
      "60/60 - 0s - loss: 0.2088 - acc: 0.9889 - val_loss: 0.3808 - val_acc: 0.9091 - 313ms/epoch - 5ms/step\n",
      "Epoch 41/50\n",
      "60/60 - 0s - loss: 0.2016 - acc: 0.9944 - val_loss: 0.3593 - val_acc: 0.9045 - 294ms/epoch - 5ms/step\n",
      "Epoch 42/50\n",
      "60/60 - 0s - loss: 0.1960 - acc: 1.0000 - val_loss: 0.3760 - val_acc: 0.9091 - 308ms/epoch - 5ms/step\n",
      "Epoch 43/50\n",
      "60/60 - 0s - loss: 0.1990 - acc: 0.9889 - val_loss: 0.3683 - val_acc: 0.9000 - 230ms/epoch - 4ms/step\n",
      "Epoch 44/50\n",
      "60/60 - 0s - loss: 0.1917 - acc: 0.9944 - val_loss: 0.3916 - val_acc: 0.9045 - 271ms/epoch - 5ms/step\n",
      "Epoch 45/50\n",
      "60/60 - 0s - loss: 0.1831 - acc: 1.0000 - val_loss: 0.3619 - val_acc: 0.8955 - 216ms/epoch - 4ms/step\n",
      "Epoch 46/50\n",
      "60/60 - 0s - loss: 0.1874 - acc: 1.0000 - val_loss: 0.3788 - val_acc: 0.9091 - 226ms/epoch - 4ms/step\n",
      "Epoch 47/50\n",
      "60/60 - 0s - loss: 0.1960 - acc: 0.9944 - val_loss: 0.3661 - val_acc: 0.9000 - 243ms/epoch - 4ms/step\n",
      "Epoch 48/50\n",
      "60/60 - 0s - loss: 0.1798 - acc: 1.0000 - val_loss: 0.3909 - val_acc: 0.9091 - 193ms/epoch - 3ms/step\n",
      "Epoch 49/50\n",
      "60/60 - 0s - loss: 0.1794 - acc: 1.0000 - val_loss: 0.3843 - val_acc: 0.9091 - 234ms/epoch - 4ms/step\n",
      "Epoch 50/50\n",
      "60/60 - 0s - loss: 0.1804 - acc: 1.0000 - val_loss: 0.3709 - val_acc: 0.9045 - 221ms/epoch - 4ms/step\n"
     ]
    },
    {
     "data": {
      "image/png": "[encoded data removed]",
      "text/plain": [
       "<Figure size 432x288 with 2 Axes>"
      ]
     },
     "metadata": {
      "needs_background": "light"
     },
     "output_type": "display_data"
    }
   ],
   "source": [
    "\n",
    "\n",
    "logdir=\"logs/fit/\" + datetime.datetime.now().strftime(\"%Y%m%d-%H%M%S\")\n",
    "\n",
    "tensorboard_callback = keras.callbacks.TensorBoard(log_dir=logdir)\n",
    "\n",
    "res = clf_model.fit(X_train, y_train.reshape(-1, 1), epochs=50, batch_size=3,\n",
    "              validation_data=(X_val, y_val.reshape(-1, 1)), verbose=2,callbacks=[tensorboard_callback])\n",
    "\n",
    "plot_history(res)"
   ]
  },
  {
   "cell_type": "code",
   "execution_count": 7,
   "id": "8b9e148c",
   "metadata": {},
   "outputs": [],
   "source": [
    "from ann_visualizer.visualize import ann_viz\n",
    "ann_viz(clf_model, view=True, filename='cconstruct_model', title='CNN — Model 1 — Simple Architecture')"
   ]
  },
  {
   "cell_type": "code",
   "execution_count": 16,
   "id": "aec7c68f",
   "metadata": {},
   "outputs": [
    {
     "data": {
      "text/html": [
       "\n",
       "      <iframe id=\"tensorboard-frame-1c5e3eaef0a9988\" width=\"100%\" height=\"800\" frameborder=\"0\">\n",
       "      </iframe>\n",
       "      <script>\n",
       "        (function() {\n",
       "          const frame = document.getElementById(\"tensorboard-frame-1c5e3eaef0a9988\");\n",
       "          const url = new URL(\"http://localhost\");\n",
       "          const port = 6006;\n",
       "          if (port) {\n",
       "            url.port = port;\n",
       "          }\n",
       "          frame.src = url;\n",
       "        })();\n",
       "      </script>\n",
       "    "
      ],
      "text/plain": [
       "<IPython.core.display.HTML object>"
      ]
     },
     "metadata": {},
     "output_type": "display_data"
    }
   ],
   "source": [
    "%tensorboard --logdir logs"
   ]
  },
  {
   "cell_type": "code",
   "execution_count": 9,
   "id": "336b84ca",
   "metadata": {},
   "outputs": [],
   "source": [
    "X_test = np.load('trained_data/X_test.npy')"
   ]
  },
  {
   "cell_type": "code",
   "execution_count": 10,
   "id": "e7564f85",
   "metadata": {},
   "outputs": [],
   "source": [
    "preds = clf_model.predict(X_test)"
   ]
  },
  {
   "cell_type": "code",
   "execution_count": 11,
   "id": "836febd5",
   "metadata": {},
   "outputs": [],
   "source": [
    "for i in range(len(preds)):\n",
    "    if preds[i] >= 0.5:\n",
    "        preds[i] = 1\n",
    "    else:\n",
    "        preds[i] = 0"
   ]
  },
  {
   "cell_type": "code",
   "execution_count": 12,
   "id": "b730f451",
   "metadata": {},
   "outputs": [
    {
     "data": {
      "text/html": [
       "<div>\n",
       "<style scoped>\n",
       "    .dataframe tbody tr th:only-of-type {\n",
       "        vertical-align: middle;\n",
       "    }\n",
       "\n",
       "    .dataframe tbody tr th {\n",
       "        vertical-align: top;\n",
       "    }\n",
       "\n",
       "    .dataframe thead th {\n",
       "        text-align: right;\n",
       "    }\n",
       "</style>\n",
       "<table border=\"1\" class=\"dataframe\">\n",
       "  <thead>\n",
       "    <tr style=\"text-align: right;\">\n",
       "      <th></th>\n",
       "      <th>id</th>\n",
       "      <th>target</th>\n",
       "    </tr>\n",
       "  </thead>\n",
       "  <tbody>\n",
       "    <tr>\n",
       "      <th>0</th>\n",
       "      <td>1</td>\n",
       "      <td>1.0</td>\n",
       "    </tr>\n",
       "    <tr>\n",
       "      <th>1</th>\n",
       "      <td>2</td>\n",
       "      <td>0.0</td>\n",
       "    </tr>\n",
       "    <tr>\n",
       "      <th>2</th>\n",
       "      <td>3</td>\n",
       "      <td>0.0</td>\n",
       "    </tr>\n",
       "    <tr>\n",
       "      <th>3</th>\n",
       "      <td>4</td>\n",
       "      <td>1.0</td>\n",
       "    </tr>\n",
       "    <tr>\n",
       "      <th>4</th>\n",
       "      <td>5</td>\n",
       "      <td>1.0</td>\n",
       "    </tr>\n",
       "    <tr>\n",
       "      <th>5</th>\n",
       "      <td>6</td>\n",
       "      <td>0.0</td>\n",
       "    </tr>\n",
       "    <tr>\n",
       "      <th>6</th>\n",
       "      <td>7</td>\n",
       "      <td>1.0</td>\n",
       "    </tr>\n",
       "    <tr>\n",
       "      <th>7</th>\n",
       "      <td>8</td>\n",
       "      <td>1.0</td>\n",
       "    </tr>\n",
       "    <tr>\n",
       "      <th>8</th>\n",
       "      <td>9</td>\n",
       "      <td>1.0</td>\n",
       "    </tr>\n",
       "    <tr>\n",
       "      <th>9</th>\n",
       "      <td>10</td>\n",
       "      <td>0.0</td>\n",
       "    </tr>\n",
       "  </tbody>\n",
       "</table>\n",
       "</div>"
      ],
      "text/plain": [
       "   id  target\n",
       "0   1     1.0\n",
       "1   2     0.0\n",
       "2   3     0.0\n",
       "3   4     1.0\n",
       "4   5     1.0\n",
       "5   6     0.0\n",
       "6   7     1.0\n",
       "7   8     1.0\n",
       "8   9     1.0\n",
       "9  10     0.0"
      ]
     },
     "execution_count": 12,
     "metadata": {},
     "output_type": "execute_result"
    }
   ],
   "source": [
    "predictions = pd.DataFrame()\n",
    "predictions[\"id\"] = np.arange(1, 81)\n",
    "predictions[\"target\"] = preds\n",
    "\n",
    "predictions.to_csv('DogVSCat.csv', index=False, header=predictions.columns)\n",
    "predictions.head(10)"
   ]
  },
  {
   "cell_type": "code",
   "execution_count": 13,
   "id": "28f087f1",
   "metadata": {},
   "outputs": [
    {
     "data": {
      "text/plain": [
       "0.0    48\n",
       "1.0    32\n",
       "Name: target, dtype: int64"
      ]
     },
     "execution_count": 13,
     "metadata": {},
     "output_type": "execute_result"
    }
   ],
   "source": [
    "predictions['target'].value_counts()"
   ]
  },
  {
   "cell_type": "code",
   "execution_count": 14,
   "id": "bb333d8b",
   "metadata": {},
   "outputs": [],
   "source": [
    "# To Save your model if you want\n",
    "# clf_model.save('saved_model/my_model')\n",
    "# To reload Your model\n",
    "# new_model =load_model('saved_model/my_model')"
   ]
  }
 ],
 "metadata": {
  "kernelspec": {
   "display_name": "Python 3",
   "language": "python",
   "name": "python3"
  },
  "language_info": {
   "codemirror_mode": {
    "name": "ipython",
    "version": 3
   },
   "file_extension": ".py",
   "mimetype": "text/x-python",
   "name": "python",
   "nbconvert_exporter": "python",
   "pygments_lexer": "ipython3",
   "version": "3.10.2"
  }
 },
 "nbformat": 4,
 "nbformat_minor": 5
}
