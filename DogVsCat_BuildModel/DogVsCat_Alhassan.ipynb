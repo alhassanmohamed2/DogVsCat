{
 "cells": [
  {
   "cell_type": "code",
   "execution_count": 17,
   "id": "6a6e3cc1",
   "metadata": {},
   "outputs": [],
   "source": [
    "from silence_tensorflow import silence_tensorflow\n",
    "silence_tensorflow()\n",
    "import numpy as np\n",
    "import pandas as pd\n",
    "from tensorflow.keras.models import Sequential\n",
    "from tensorflow.keras.optimizers import Adam\n",
    "from tensorflow.keras.regularizers import l2\n",
    "from tensorflow.keras.layers import Dense, Dropout\n",
    "import matplotlib.pyplot as plt\n",
    "%matplotlib inline"
   ]
  },
  {
   "cell_type": "code",
   "execution_count": 18,
   "id": "7bc8faa1",
   "metadata": {},
   "outputs": [
    {
     "name": "stdout",
     "output_type": "stream",
     "text": [
      "Model: \"sequential_1\"\n",
      "_________________________________________________________________\n",
      "Layer (type)                 Output Shape              Param #   \n",
      "=================================================================\n",
      "dense_2 (Dense)              (None, 128)               65664     \n",
      "_________________________________________________________________\n",
      "dropout_1 (Dropout)          (None, 128)               0         \n",
      "_________________________________________________________________\n",
      "dense_3 (Dense)              (None, 1)                 129       \n",
      "=================================================================\n",
      "Total params: 65,793\n",
      "Trainable params: 65,793\n",
      "Non-trainable params: 0\n",
      "_________________________________________________________________\n"
     ]
    }
   ],
   "source": [
    "clf_model =  Sequential()\n",
    "\n",
    "clf_model.add(Dense(128, activation='relu', input_dim=512,\n",
    "                    kernel_regularizer=l2(0.001)))\n",
    "clf_model.add(Dropout(0.3))\n",
    "\n",
    "clf_model.add(Dense(1, activation='sigmoid'))\n",
    "\n",
    "clf_model.summary()\n",
    "\n",
    "clf_model.compile(optimizer=Adam(learning_rate=0.0001), \n",
    "                  loss='binary_crossentropy', metrics=['acc'])"
   ]
  },
  {
   "cell_type": "code",
   "execution_count": 19,
   "id": "440ae082",
   "metadata": {},
   "outputs": [],
   "source": [
    "X_train= np.load('trained_data/X_train.npy')\n",
    "y_train=np.load('trained_data/y_train.npy')\n",
    "X_val=np.load('trained_data/X_val.npy')\n",
    "y_val=np.load('trained_data/y_val.npy')"
   ]
  },
  {
   "cell_type": "code",
   "execution_count": 20,
   "id": "86d12277",
   "metadata": {},
   "outputs": [],
   "source": [
    "def plot_history(history):\n",
    "    fig, axs = plt.subplots(2)\n",
    "    # Plot both Loss & Accuracy in Subplot\n",
    "  # creat accuracy plot\n",
    "    axs[0].plot(history.history['acc'], label='train accuracy')\n",
    "    axs[0].plot(history.history['val_acc'], label='test accuracy')\n",
    "    axs[0].set_ylabel('Accuracy')\n",
    "    axs[0].legend(loc='best')\n",
    "    axs[0].set_title('Accuracy eval')\n",
    "\n",
    "  # creat loss plot\n",
    "    axs[1].plot(history.history['loss'], label='train loss')\n",
    "    axs[1].plot(history.history['val_loss'], label='test loss')\n",
    "    axs[1].set_ylabel('Loss')\n",
    "    axs[1].set_xlabel('Epoch')\n",
    "    axs[1].legend(loc='best')\n",
    "    axs[1].set_title('Loss eval')\n",
    "\n",
    "    plt.show()"
   ]
  },
  {
   "cell_type": "code",
   "execution_count": 21,
   "id": "2023db79",
   "metadata": {
    "scrolled": true
   },
   "outputs": [
    {
     "name": "stdout",
     "output_type": "stream",
     "text": [
      "Epoch 1/50\n",
      "60/60 - 3s - loss: 0.8983 - acc: 0.5667 - val_loss: 0.7338 - val_acc: 0.8136\n",
      "Epoch 2/50\n",
      "60/60 - 1s - loss: 0.7236 - acc: 0.7500 - val_loss: 0.6519 - val_acc: 0.8545\n",
      "Epoch 3/50\n",
      "60/60 - 1s - loss: 0.6830 - acc: 0.7611 - val_loss: 0.6557 - val_acc: 0.7636\n",
      "Epoch 4/50\n",
      "60/60 - 1s - loss: 0.6052 - acc: 0.8222 - val_loss: 0.5771 - val_acc: 0.8364\n",
      "Epoch 5/50\n",
      "60/60 - 1s - loss: 0.5409 - acc: 0.8833 - val_loss: 0.5347 - val_acc: 0.8818\n",
      "Epoch 6/50\n",
      "60/60 - 1s - loss: 0.5168 - acc: 0.8833 - val_loss: 0.5174 - val_acc: 0.8818\n",
      "Epoch 7/50\n",
      "60/60 - 1s - loss: 0.4949 - acc: 0.8722 - val_loss: 0.4957 - val_acc: 0.8864\n",
      "Epoch 8/50\n",
      "60/60 - 1s - loss: 0.4260 - acc: 0.9167 - val_loss: 0.4757 - val_acc: 0.9091\n",
      "Epoch 9/50\n",
      "60/60 - 1s - loss: 0.4306 - acc: 0.9167 - val_loss: 0.4676 - val_acc: 0.9045\n",
      "Epoch 10/50\n",
      "60/60 - 1s - loss: 0.4247 - acc: 0.9167 - val_loss: 0.4494 - val_acc: 0.9136\n",
      "Epoch 11/50\n",
      "60/60 - 1s - loss: 0.3950 - acc: 0.9444 - val_loss: 0.4447 - val_acc: 0.9045\n",
      "Epoch 12/50\n",
      "60/60 - 1s - loss: 0.3614 - acc: 0.9444 - val_loss: 0.4326 - val_acc: 0.9091\n",
      "Epoch 13/50\n",
      "60/60 - 1s - loss: 0.3627 - acc: 0.9722 - val_loss: 0.4361 - val_acc: 0.9091\n",
      "Epoch 14/50\n",
      "60/60 - 1s - loss: 0.3552 - acc: 0.9611 - val_loss: 0.4364 - val_acc: 0.9000\n",
      "Epoch 15/50\n",
      "60/60 - 1s - loss: 0.3363 - acc: 0.9444 - val_loss: 0.4125 - val_acc: 0.9182\n",
      "Epoch 16/50\n",
      "60/60 - 1s - loss: 0.3184 - acc: 0.9778 - val_loss: 0.4103 - val_acc: 0.9227\n",
      "Epoch 17/50\n",
      "60/60 - 1s - loss: 0.3104 - acc: 0.9611 - val_loss: 0.4096 - val_acc: 0.9136\n",
      "Epoch 18/50\n",
      "60/60 - 1s - loss: 0.3091 - acc: 0.9722 - val_loss: 0.4137 - val_acc: 0.9045\n",
      "Epoch 19/50\n",
      "60/60 - 1s - loss: 0.2913 - acc: 0.9778 - val_loss: 0.4379 - val_acc: 0.8955\n",
      "Epoch 20/50\n",
      "60/60 - 1s - loss: 0.2781 - acc: 0.9722 - val_loss: 0.3971 - val_acc: 0.9136\n",
      "Epoch 21/50\n",
      "60/60 - 1s - loss: 0.2779 - acc: 0.9833 - val_loss: 0.3964 - val_acc: 0.9136\n",
      "Epoch 22/50\n",
      "60/60 - 1s - loss: 0.2700 - acc: 0.9833 - val_loss: 0.4023 - val_acc: 0.9045\n",
      "Epoch 23/50\n",
      "60/60 - 1s - loss: 0.2584 - acc: 0.9833 - val_loss: 0.3803 - val_acc: 0.9227\n",
      "Epoch 24/50\n",
      "60/60 - 1s - loss: 0.2627 - acc: 0.9833 - val_loss: 0.3818 - val_acc: 0.9227\n",
      "Epoch 25/50\n",
      "60/60 - 1s - loss: 0.2509 - acc: 0.9778 - val_loss: 0.3850 - val_acc: 0.9182\n",
      "Epoch 26/50\n",
      "60/60 - 1s - loss: 0.2451 - acc: 0.9833 - val_loss: 0.3851 - val_acc: 0.9136\n",
      "Epoch 27/50\n",
      "60/60 - 1s - loss: 0.2458 - acc: 0.9833 - val_loss: 0.3942 - val_acc: 0.9136\n",
      "Epoch 28/50\n",
      "60/60 - 1s - loss: 0.2394 - acc: 1.0000 - val_loss: 0.3861 - val_acc: 0.9136\n",
      "Epoch 29/50\n",
      "60/60 - 1s - loss: 0.2333 - acc: 0.9833 - val_loss: 0.3980 - val_acc: 0.9045\n",
      "Epoch 30/50\n",
      "60/60 - 1s - loss: 0.2261 - acc: 0.9889 - val_loss: 0.4059 - val_acc: 0.9000\n",
      "Epoch 31/50\n",
      "60/60 - 1s - loss: 0.2337 - acc: 0.9944 - val_loss: 0.4222 - val_acc: 0.8909\n",
      "Epoch 32/50\n",
      "60/60 - 1s - loss: 0.2294 - acc: 0.9833 - val_loss: 0.4232 - val_acc: 0.8955\n",
      "Epoch 33/50\n",
      "60/60 - 1s - loss: 0.2214 - acc: 1.0000 - val_loss: 0.3813 - val_acc: 0.9136\n",
      "Epoch 34/50\n",
      "60/60 - 1s - loss: 0.2119 - acc: 0.9944 - val_loss: 0.3922 - val_acc: 0.9091\n",
      "Epoch 35/50\n",
      "60/60 - 1s - loss: 0.2065 - acc: 0.9944 - val_loss: 0.3795 - val_acc: 0.9136\n",
      "Epoch 36/50\n",
      "60/60 - 1s - loss: 0.2066 - acc: 0.9944 - val_loss: 0.3669 - val_acc: 0.9273\n",
      "Epoch 37/50\n",
      "60/60 - 1s - loss: 0.2029 - acc: 0.9944 - val_loss: 0.3597 - val_acc: 0.9227\n",
      "Epoch 38/50\n",
      "60/60 - 1s - loss: 0.2199 - acc: 0.9944 - val_loss: 0.3607 - val_acc: 0.9136\n",
      "Epoch 39/50\n",
      "60/60 - 1s - loss: 0.1972 - acc: 1.0000 - val_loss: 0.3749 - val_acc: 0.9182\n",
      "Epoch 40/50\n",
      "60/60 - 1s - loss: 0.1917 - acc: 1.0000 - val_loss: 0.3825 - val_acc: 0.9136\n",
      "Epoch 41/50\n",
      "60/60 - 1s - loss: 0.1995 - acc: 0.9944 - val_loss: 0.3841 - val_acc: 0.9091\n",
      "Epoch 42/50\n",
      "60/60 - 0s - loss: 0.1868 - acc: 1.0000 - val_loss: 0.3661 - val_acc: 0.9227\n",
      "Epoch 43/50\n",
      "60/60 - 1s - loss: 0.1844 - acc: 0.9944 - val_loss: 0.3713 - val_acc: 0.9182\n",
      "Epoch 44/50\n",
      "60/60 - 1s - loss: 0.1811 - acc: 1.0000 - val_loss: 0.3795 - val_acc: 0.9045\n",
      "Epoch 45/50\n",
      "60/60 - 1s - loss: 0.1813 - acc: 1.0000 - val_loss: 0.3746 - val_acc: 0.9136\n",
      "Epoch 46/50\n",
      "60/60 - 1s - loss: 0.1888 - acc: 1.0000 - val_loss: 0.3887 - val_acc: 0.9091\n",
      "Epoch 47/50\n",
      "60/60 - 1s - loss: 0.1777 - acc: 1.0000 - val_loss: 0.3669 - val_acc: 0.9182\n",
      "Epoch 48/50\n",
      "60/60 - 1s - loss: 0.1798 - acc: 1.0000 - val_loss: 0.3701 - val_acc: 0.9091\n",
      "Epoch 49/50\n",
      "60/60 - 1s - loss: 0.1770 - acc: 1.0000 - val_loss: 0.3757 - val_acc: 0.9136\n",
      "Epoch 50/50\n",
      "60/60 - 1s - loss: 0.1665 - acc: 1.0000 - val_loss: 0.3806 - val_acc: 0.9091\n"
     ]
    },
    {
     "data": {
      "image/png": "[encoded data removed]",
      "text/plain": [
       "<Figure size 432x288 with 2 Axes>"
      ]
     },
     "metadata": {
      "needs_background": "light"
     },
     "output_type": "display_data"
    }
   ],
   "source": [
    "res = clf_model.fit(X_train, y_train.reshape(-1, 1), epochs=50, batch_size=3,\n",
    "              validation_data=(X_val, y_val.reshape(-1, 1)), verbose=2)\n",
    "\n",
    "plot_history(res)"
   ]
  },
  {
   "cell_type": "code",
   "execution_count": 6,
   "id": "336b84ca",
   "metadata": {},
   "outputs": [],
   "source": [
    "X_test = np.load('trained_data/X_test.npy')"
   ]
  },
  {
   "cell_type": "code",
   "execution_count": 7,
   "id": "e7564f85",
   "metadata": {},
   "outputs": [],
   "source": [
    "preds = clf_model.predict(X_test)"
   ]
  },
  {
   "cell_type": "code",
   "execution_count": 8,
   "id": "836febd5",
   "metadata": {},
   "outputs": [],
   "source": [
    "for i in range(len(preds)):\n",
    "    if preds[i] >= 0.5:\n",
    "        preds[i] = 1\n",
    "    else:\n",
    "        preds[i] = 0"
   ]
  },
  {
   "cell_type": "code",
   "execution_count": 9,
   "id": "b730f451",
   "metadata": {},
   "outputs": [
    {
     "data": {
      "text/html": [
       "<div>\n",
       "<style scoped>\n",
       "    .dataframe tbody tr th:only-of-type {\n",
       "        vertical-align: middle;\n",
       "    }\n",
       "\n",
       "    .dataframe tbody tr th {\n",
       "        vertical-align: top;\n",
       "    }\n",
       "\n",
       "    .dataframe thead th {\n",
       "        text-align: right;\n",
       "    }\n",
       "</style>\n",
       "<table border=\"1\" class=\"dataframe\">\n",
       "  <thead>\n",
       "    <tr style=\"text-align: right;\">\n",
       "      <th></th>\n",
       "      <th>id</th>\n",
       "      <th>target</th>\n",
       "    </tr>\n",
       "  </thead>\n",
       "  <tbody>\n",
       "    <tr>\n",
       "      <th>0</th>\n",
       "      <td>1</td>\n",
       "      <td>1.0</td>\n",
       "    </tr>\n",
       "    <tr>\n",
       "      <th>1</th>\n",
       "      <td>2</td>\n",
       "      <td>0.0</td>\n",
       "    </tr>\n",
       "    <tr>\n",
       "      <th>2</th>\n",
       "      <td>3</td>\n",
       "      <td>0.0</td>\n",
       "    </tr>\n",
       "    <tr>\n",
       "      <th>3</th>\n",
       "      <td>4</td>\n",
       "      <td>1.0</td>\n",
       "    </tr>\n",
       "    <tr>\n",
       "      <th>4</th>\n",
       "      <td>5</td>\n",
       "      <td>1.0</td>\n",
       "    </tr>\n",
       "    <tr>\n",
       "      <th>5</th>\n",
       "      <td>6</td>\n",
       "      <td>0.0</td>\n",
       "    </tr>\n",
       "    <tr>\n",
       "      <th>6</th>\n",
       "      <td>7</td>\n",
       "      <td>1.0</td>\n",
       "    </tr>\n",
       "    <tr>\n",
       "      <th>7</th>\n",
       "      <td>8</td>\n",
       "      <td>1.0</td>\n",
       "    </tr>\n",
       "    <tr>\n",
       "      <th>8</th>\n",
       "      <td>9</td>\n",
       "      <td>1.0</td>\n",
       "    </tr>\n",
       "    <tr>\n",
       "      <th>9</th>\n",
       "      <td>10</td>\n",
       "      <td>0.0</td>\n",
       "    </tr>\n",
       "  </tbody>\n",
       "</table>\n",
       "</div>"
      ],
      "text/plain": [
       "   id  target\n",
       "0   1     1.0\n",
       "1   2     0.0\n",
       "2   3     0.0\n",
       "3   4     1.0\n",
       "4   5     1.0\n",
       "5   6     0.0\n",
       "6   7     1.0\n",
       "7   8     1.0\n",
       "8   9     1.0\n",
       "9  10     0.0"
      ]
     },
     "execution_count": 9,
     "metadata": {},
     "output_type": "execute_result"
    }
   ],
   "source": [
    "predictions = pd.DataFrame()\n",
    "predictions[\"id\"] = np.arange(1, 81)\n",
    "predictions[\"target\"] = preds\n",
    "\n",
    "predictions.to_csv('DogVSCat.csv', index=False, header=predictions.columns)\n",
    "predictions.head(10)"
   ]
  },
  {
   "cell_type": "code",
   "execution_count": 10,
   "id": "28f087f1",
   "metadata": {},
   "outputs": [
    {
     "data": {
      "text/plain": [
       "0.0    47\n",
       "1.0    33\n",
       "Name: target, dtype: int64"
      ]
     },
     "execution_count": 10,
     "metadata": {},
     "output_type": "execute_result"
    }
   ],
   "source": [
    "predictions['target'].value_counts()"
   ]
  },
  {
   "cell_type": "code",
   "execution_count": null,
   "id": "bb333d8b",
   "metadata": {},
   "outputs": [],
   "source": [
    "# To Save your model if you want\n",
    "# clf_model.save('saved_model/my_model')\n",
    "# To reload Your model\n",
    "# new_model =load_model('saved_model/my_model')"
   ]
  }
 ],
 "metadata": {
  "kernelspec": {
   "display_name": "Python 3",
   "language": "python",
   "name": "python3"
  },
  "language_info": {
   "codemirror_mode": {
    "name": "ipython",
    "version": 3
   },
   "file_extension": ".py",
   "mimetype": "text/x-python",
   "name": "python",
   "nbconvert_exporter": "python",
   "pygments_lexer": "ipython3",
   "version": "3.9.6"
  }
 },
 "nbformat": 4,
 "nbformat_minor": 5
}
