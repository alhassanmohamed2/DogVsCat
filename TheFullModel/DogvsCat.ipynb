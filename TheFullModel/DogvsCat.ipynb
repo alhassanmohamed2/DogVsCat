{
 "cells": [
  {
   "cell_type": "code",
   "execution_count": 1,
   "id": "56e4ce11",
   "metadata": {
    "execution": {
     "iopub.execute_input": "2021-08-22T09:49:34.133793Z",
     "iopub.status.busy": "2021-08-22T09:49:34.133262Z",
     "iopub.status.idle": "2021-08-22T09:49:38.865001Z",
     "shell.execute_reply": "2021-08-22T09:49:38.864092Z",
     "shell.execute_reply.started": "2021-08-22T09:36:25.528820Z"
    },
    "id": "TYopVYtgWnpp",
    "papermill": {
     "duration": 4.761746,
     "end_time": "2021-08-22T09:49:38.865143",
     "exception": false,
     "start_time": "2021-08-22T09:49:34.103397",
     "status": "completed"
    },
    "scrolled": true,
    "tags": []
   },
   "outputs": [],
   "source": [
    "import numpy as np\n",
    "import tensorflow\n",
    "import tensorflow.keras\n",
    "from tensorflow.keras.models import Model, Sequential\n",
    "from tensorflow.keras.layers import Input, Dense, Dropout, GlobalMaxPooling2D\n",
    "from tensorflow.keras.preprocessing.image import ImageDataGenerator\n",
    "from tensorflow.keras.applications.vgg16 import VGG16, preprocess_input\n",
    "from tqdm import tqdm\n",
    "from random import shuffle\n",
    "import matplotlib.pyplot as plt\n",
    "import pandas as pd\n",
    "%matplotlib inline"
   ]
  },
  {
   "cell_type": "code",
   "execution_count": 2,
   "id": "02242d2a",
   "metadata": {
    "execution": {
     "iopub.execute_input": "2021-08-22T09:49:43.993551Z",
     "iopub.status.busy": "2021-08-22T09:49:43.993038Z",
     "iopub.status.idle": "2021-08-22T09:49:45.167538Z",
     "shell.execute_reply": "2021-08-22T09:49:45.167069Z",
     "shell.execute_reply.started": "2021-08-22T09:38:22.469366Z"
    },
    "id": "V3UOFGn8g0YM",
    "outputId": "6b124f55-65b5-4e14-f5e7-81e369fb4e34",
    "papermill": {
     "duration": 1.208773,
     "end_time": "2021-08-22T09:49:45.167658",
     "exception": false,
     "start_time": "2021-08-22T09:49:43.958885",
     "status": "completed"
    },
    "tags": []
   },
   "outputs": [
    {
     "name": "stdout",
     "output_type": "stream",
     "text": [
      "Found 180 images belonging to 2 classes.\n",
      "Found 220 images belonging to 2 classes.\n"
     ]
    }
   ],
   "source": [
    "datagen = ImageDataGenerator(rescale=1./255 ,preprocessing_function=preprocess_input)\n",
    "\n",
    "train_datagen = datagen.flow_from_directory('train',\n",
    "                                            batch_size=3,\n",
    "                                            shuffle=True,\n",
    "                                            target_size=(224, 224),\n",
    "                                            class_mode='binary')\n",
    "\n",
    "val_datagen = datagen.flow_from_directory('val',\n",
    "                                            batch_size=3,\n",
    "                                            shuffle=True,\n",
    "                                            target_size=(224, 224),\n",
    "                                            class_mode='binary')"
   ]
  },
  {
   "cell_type": "code",
   "execution_count": 3,
   "id": "87e7eba2",
   "metadata": {
    "execution": {
     "iopub.execute_input": "2021-08-22T09:49:45.754270Z",
     "iopub.status.busy": "2021-08-22T09:49:45.753688Z",
     "iopub.status.idle": "2021-08-22T09:49:48.585058Z",
     "shell.execute_reply": "2021-08-22T09:49:48.584592Z",
     "shell.execute_reply.started": "2021-08-22T09:38:49.555609Z"
    },
    "id": "64bbEWTQhVYW",
    "outputId": "c414508f-1a9a-4485-97d5-62066dfa0697",
    "papermill": {
     "duration": 2.873027,
     "end_time": "2021-08-22T09:49:48.585183",
     "exception": false,
     "start_time": "2021-08-22T09:49:45.712156",
     "status": "completed"
    },
    "tags": []
   },
   "outputs": [],
   "source": [
    "model = VGG16(weights='imagenet', include_top=False)\n",
    "\n",
    "inp = Input(shape=(224, 224, 3), batch_size=3)\n",
    "\n",
    "x = model(inp)\n",
    "x = GlobalMaxPooling2D()(x)\n",
    "\n",
    "model_feature_extractor = Model(inputs=[inp], outputs=[x])"
   ]
  },
  {
   "cell_type": "code",
   "execution_count": 5,
   "id": "6418b380",
   "metadata": {
    "execution": {
     "iopub.execute_input": "2021-08-22T09:49:48.662756Z",
     "iopub.status.busy": "2021-08-22T09:49:48.661330Z",
     "iopub.status.idle": "2021-08-22T09:49:48.670731Z",
     "shell.execute_reply": "2021-08-22T09:49:48.670266Z",
     "shell.execute_reply.started": "2021-08-22T09:39:04.186452Z"
    },
    "id": "FF9XLFLVjfy0",
    "papermill": {
     "duration": 0.049676,
     "end_time": "2021-08-22T09:49:48.670871",
     "exception": false,
     "start_time": "2021-08-22T09:49:48.621195",
     "status": "completed"
    },
    "tags": []
   },
   "outputs": [],
   "source": [
    "X_train = np.zeros((180, 512), dtype=np.float32)\n",
    "y_train = np.zeros((180))\n",
    "\n",
    "X_val = np.zeros((220, 512), dtype=np.float32)\n",
    "y_val = np.zeros((220))"
   ]
  },
  {
   "cell_type": "code",
   "execution_count": 6,
   "id": "f6387d5a",
   "metadata": {
    "execution": {
     "iopub.execute_input": "2021-08-22T09:49:48.753325Z",
     "iopub.status.busy": "2021-08-22T09:49:48.752527Z",
     "iopub.status.idle": "2021-08-22T09:52:33.600198Z",
     "shell.execute_reply": "2021-08-22T09:52:33.600586Z",
     "shell.execute_reply.started": "2021-08-22T09:39:05.722796Z"
    },
    "id": "tZIEiI_1jq-Q",
    "outputId": "2fedff70-23bc-4fb0-ab9d-27c0b40ed143",
    "papermill": {
     "duration": 164.893736,
     "end_time": "2021-08-22T09:52:33.600748",
     "exception": false,
     "start_time": "2021-08-22T09:49:48.707012",
     "status": "completed"
    },
    "tags": []
   },
   "outputs": [
    {
     "name": "stderr",
     "output_type": "stream",
     "text": [
      "100%|████████████████████████████████████████████████████████████████████████████████████████████| 60/60 [26:54<00:00, 26.90s/it]\n",
      "100%|████████████████████████████████████████████████████████████████████████████████████████████| 74/74 [32:23<00:00, 26.26s/it]\n"
     ]
    }
   ],
   "source": [
    "for i in tqdm(range(0, 180, 3)):\n",
    "    batch = train_datagen.next()\n",
    "    X_train[i:i + 3] = model_feature_extractor.predict(batch[0])\n",
    "    y_train[i:i + 3] = batch[1]\n",
    "\n",
    "for i in tqdm(range(0, 220, 3)):\n",
    "    batch = val_datagen.next()\n",
    "    X_val[i:i + 3] = model_feature_extractor.predict(batch[0])\n",
    "    y_val[i:i + 3] = batch[1]"
   ]
  },
  {
   "cell_type": "code",
   "execution_count": 7,
   "id": "dad779aa",
   "metadata": {
    "execution": {
     "iopub.execute_input": "2021-08-22T09:52:34.076141Z",
     "iopub.status.busy": "2021-08-22T09:52:34.075509Z",
     "iopub.status.idle": "2021-08-22T09:52:34.079998Z",
     "shell.execute_reply": "2021-08-22T09:52:34.080368Z",
     "shell.execute_reply.started": "2021-08-22T09:41:54.120802Z"
    },
    "id": "uUZGPKddkyiB",
    "outputId": "ab4960e1-4a56-4aed-a7ae-8ee2bad416ce",
    "papermill": {
     "duration": 0.24372,
     "end_time": "2021-08-22T09:52:34.080502",
     "exception": false,
     "start_time": "2021-08-22T09:52:33.836782",
     "status": "completed"
    },
    "tags": []
   },
   "outputs": [
    {
     "name": "stdout",
     "output_type": "stream",
     "text": [
      "(180, 512) (180,)\n",
      "(220, 512) (220,)\n"
     ]
    }
   ],
   "source": [
    "print(X_train.shape, y_train.shape)\n",
    "print(X_val.shape, y_val.shape)"
   ]
  },
  {
   "cell_type": "code",
   "execution_count": 8,
   "id": "2c1329b2",
   "metadata": {
    "execution": {
     "iopub.execute_input": "2021-08-22T09:52:34.563339Z",
     "iopub.status.busy": "2021-08-22T09:52:34.562309Z",
     "iopub.status.idle": "2021-08-22T09:52:34.565023Z",
     "shell.execute_reply": "2021-08-22T09:52:34.565458Z",
     "shell.execute_reply.started": "2021-08-22T09:41:55.870168Z"
    },
    "id": "d7Ej733OkE_T",
    "papermill": {
     "duration": 0.248823,
     "end_time": "2021-08-22T09:52:34.565595",
     "exception": false,
     "start_time": "2021-08-22T09:52:34.316772",
     "status": "completed"
    },
    "tags": []
   },
   "outputs": [],
   "source": [
    "def plot_history(history):\n",
    "    fig, axs = plt.subplots(2)\n",
    "    # Plot both Loss & Accuracy in Subplot\n",
    "  # creat accuracy plot\n",
    "    axs[0].plot(history.history['acc'], label='train accuracy')\n",
    "    axs[0].plot(history.history['val_acc'], label='test accuracy')\n",
    "    axs[0].set_ylabel('Accuracy')\n",
    "    axs[0].legend(loc='best')\n",
    "    axs[0].set_title('Accuracy eval')\n",
    "\n",
    "  # creat loss plot\n",
    "    axs[1].plot(history.history['loss'], label='train loss')\n",
    "    axs[1].plot(history.history['val_loss'], label='test loss')\n",
    "    axs[1].set_ylabel('Loss')\n",
    "    axs[1].set_xlabel('Epoch')\n",
    "    axs[1].legend(loc='best')\n",
    "    axs[1].set_title('Loss eval')\n",
    "\n",
    "    plt.show()"
   ]
  },
  {
   "cell_type": "code",
   "execution_count": 9,
   "id": "4e648b5c",
   "metadata": {
    "execution": {
     "iopub.execute_input": "2021-08-22T09:52:35.220481Z",
     "iopub.status.busy": "2021-08-22T09:52:35.219826Z",
     "iopub.status.idle": "2021-08-22T09:52:35.221679Z",
     "shell.execute_reply": "2021-08-22T09:52:35.221017Z",
     "shell.execute_reply.started": "2021-08-22T09:42:01.155592Z"
    },
    "id": "_7KKhsNWo9wc",
    "papermill": {
     "duration": 0.376909,
     "end_time": "2021-08-22T09:52:35.221832",
     "exception": false,
     "start_time": "2021-08-22T09:52:34.844923",
     "status": "completed"
    },
    "tags": []
   },
   "outputs": [],
   "source": [
    "import tensorflow as tf\n",
    "from tensorflow.keras.regularizers import l2\n",
    "from tensorflow.keras.optimizers import Adam\n",
    "import datetime"
   ]
  },
  {
   "cell_type": "code",
   "execution_count": 10,
   "id": "49f562f3",
   "metadata": {
    "execution": {
     "iopub.execute_input": "2021-08-22T09:52:36.257555Z",
     "iopub.status.busy": "2021-08-22T09:52:36.256694Z",
     "iopub.status.idle": "2021-08-22T09:52:36.300303Z",
     "shell.execute_reply": "2021-08-22T09:52:36.299511Z",
     "shell.execute_reply.started": "2021-08-22T09:42:02.433848Z"
    },
    "id": "NcyPfSYNnVru",
    "outputId": "d7589971-6f61-40f7-92d3-105af1a0c7df",
    "papermill": {
     "duration": 0.644812,
     "end_time": "2021-08-22T09:52:36.300420",
     "exception": false,
     "start_time": "2021-08-22T09:52:35.655608",
     "status": "completed"
    },
    "tags": []
   },
   "outputs": [
    {
     "name": "stdout",
     "output_type": "stream",
     "text": [
      "Model: \"sequential\"\n",
      "_________________________________________________________________\n",
      "Layer (type)                 Output Shape              Param #   \n",
      "=================================================================\n",
      "dense (Dense)                (None, 128)               65664     \n",
      "_________________________________________________________________\n",
      "dropout (Dropout)            (None, 128)               0         \n",
      "_________________________________________________________________\n",
      "dense_1 (Dense)              (None, 1)                 129       \n",
      "=================================================================\n",
      "Total params: 65,793\n",
      "Trainable params: 65,793\n",
      "Non-trainable params: 0\n",
      "_________________________________________________________________\n"
     ]
    }
   ],
   "source": [
    "clf_model =  Sequential()\n",
    "\n",
    "clf_model.add(Dense(128, activation='relu', input_dim=512,\n",
    "                    kernel_regularizer=l2(0.001)))\n",
    "clf_model.add(Dropout(0.3))\n",
    "\n",
    "clf_model.add(Dense(1, activation='sigmoid'))\n",
    "\n",
    "clf_model.summary()\n",
    "\n",
    "clf_model.compile(optimizer=Adam(learning_rate=0.0001), \n",
    "                  loss='binary_crossentropy', metrics=['acc'])"
   ]
  },
  {
   "cell_type": "code",
   "execution_count": 11,
   "id": "9bf4175f",
   "metadata": {
    "execution": {
     "iopub.execute_input": "2021-08-22T09:52:36.780129Z",
     "iopub.status.busy": "2021-08-22T09:52:36.779143Z",
     "iopub.status.idle": "2021-08-22T09:53:26.193131Z",
     "shell.execute_reply": "2021-08-22T09:53:26.192672Z",
     "shell.execute_reply.started": "2021-08-22T09:42:04.495365Z"
    },
    "id": "Lqk3Xmg4k7kn",
    "outputId": "0c0e79f6-7c36-4788-9dea-5c6a8b5629e3",
    "papermill": {
     "duration": 49.654422,
     "end_time": "2021-08-22T09:53:26.193259",
     "exception": false,
     "start_time": "2021-08-22T09:52:36.538837",
     "status": "completed"
    },
    "tags": []
   },
   "outputs": [
    {
     "name": "stdout",
     "output_type": "stream",
     "text": [
      "Epoch 1/50\n",
      "60/60 - 8s - loss: 0.9229 - acc: 0.6111 - val_loss: 0.7702 - val_acc: 0.7136\n",
      "Epoch 2/50\n",
      "60/60 - 1s - loss: 0.7864 - acc: 0.6889 - val_loss: 0.7165 - val_acc: 0.7273\n",
      "Epoch 3/50\n",
      "60/60 - 1s - loss: 0.6957 - acc: 0.7278 - val_loss: 0.6337 - val_acc: 0.7818\n",
      "Epoch 4/50\n",
      "60/60 - 1s - loss: 0.6043 - acc: 0.8111 - val_loss: 0.5936 - val_acc: 0.8182\n",
      "Epoch 5/50\n",
      "60/60 - 1s - loss: 0.5576 - acc: 0.8500 - val_loss: 0.5843 - val_acc: 0.8182\n",
      "Epoch 6/50\n",
      "60/60 - 1s - loss: 0.4648 - acc: 0.9222 - val_loss: 0.5127 - val_acc: 0.8909\n",
      "Epoch 7/50\n",
      "60/60 - 1s - loss: 0.4926 - acc: 0.8833 - val_loss: 0.4920 - val_acc: 0.8955\n",
      "Epoch 8/50\n",
      "60/60 - 1s - loss: 0.4323 - acc: 0.9222 - val_loss: 0.4835 - val_acc: 0.8909\n",
      "Epoch 9/50\n",
      "60/60 - 1s - loss: 0.4295 - acc: 0.8944 - val_loss: 0.4844 - val_acc: 0.8864\n",
      "Epoch 10/50\n",
      "60/60 - 1s - loss: 0.3967 - acc: 0.9111 - val_loss: 0.4699 - val_acc: 0.8909\n",
      "Epoch 11/50\n",
      "60/60 - 1s - loss: 0.4100 - acc: 0.9111 - val_loss: 0.4484 - val_acc: 0.9045\n",
      "Epoch 12/50\n",
      "60/60 - 1s - loss: 0.3675 - acc: 0.9500 - val_loss: 0.4494 - val_acc: 0.9045\n",
      "Epoch 13/50\n",
      "60/60 - 1s - loss: 0.3592 - acc: 0.9611 - val_loss: 0.4511 - val_acc: 0.8955\n",
      "Epoch 14/50\n",
      "60/60 - 1s - loss: 0.3589 - acc: 0.9389 - val_loss: 0.4275 - val_acc: 0.9091\n",
      "Epoch 15/50\n",
      "60/60 - 1s - loss: 0.3450 - acc: 0.9444 - val_loss: 0.4301 - val_acc: 0.9045\n",
      "Epoch 16/50\n",
      "60/60 - 1s - loss: 0.3195 - acc: 0.9611 - val_loss: 0.4127 - val_acc: 0.9091\n",
      "Epoch 17/50\n",
      "60/60 - 1s - loss: 0.3226 - acc: 0.9500 - val_loss: 0.4100 - val_acc: 0.9091\n",
      "Epoch 18/50\n",
      "60/60 - 1s - loss: 0.3086 - acc: 0.9667 - val_loss: 0.4084 - val_acc: 0.9091\n",
      "Epoch 19/50\n",
      "60/60 - 1s - loss: 0.3005 - acc: 0.9722 - val_loss: 0.4158 - val_acc: 0.9045\n",
      "Epoch 20/50\n",
      "60/60 - 1s - loss: 0.2797 - acc: 0.9778 - val_loss: 0.4124 - val_acc: 0.9091\n",
      "Epoch 21/50\n",
      "60/60 - 1s - loss: 0.2847 - acc: 0.9667 - val_loss: 0.4011 - val_acc: 0.9045\n",
      "Epoch 22/50\n",
      "60/60 - 1s - loss: 0.2725 - acc: 0.9889 - val_loss: 0.4199 - val_acc: 0.8955\n",
      "Epoch 23/50\n",
      "60/60 - 1s - loss: 0.2786 - acc: 0.9833 - val_loss: 0.3956 - val_acc: 0.9091\n",
      "Epoch 24/50\n",
      "60/60 - 1s - loss: 0.2684 - acc: 0.9722 - val_loss: 0.3937 - val_acc: 0.9045\n",
      "Epoch 25/50\n",
      "60/60 - 1s - loss: 0.2692 - acc: 0.9833 - val_loss: 0.4108 - val_acc: 0.8955\n",
      "Epoch 26/50\n",
      "60/60 - 1s - loss: 0.2617 - acc: 0.9833 - val_loss: 0.3972 - val_acc: 0.9000\n",
      "Epoch 27/50\n",
      "60/60 - 1s - loss: 0.2474 - acc: 0.9889 - val_loss: 0.4108 - val_acc: 0.8955\n",
      "Epoch 28/50\n",
      "60/60 - 1s - loss: 0.2469 - acc: 0.9778 - val_loss: 0.4109 - val_acc: 0.9000\n",
      "Epoch 29/50\n",
      "60/60 - 1s - loss: 0.2453 - acc: 0.9833 - val_loss: 0.3923 - val_acc: 0.9000\n",
      "Epoch 30/50\n",
      "60/60 - 1s - loss: 0.2471 - acc: 0.9944 - val_loss: 0.3975 - val_acc: 0.9000\n",
      "Epoch 31/50\n",
      "60/60 - 1s - loss: 0.2293 - acc: 0.9944 - val_loss: 0.3866 - val_acc: 0.9000\n",
      "Epoch 32/50\n",
      "60/60 - 1s - loss: 0.2196 - acc: 1.0000 - val_loss: 0.3809 - val_acc: 0.9091\n",
      "Epoch 33/50\n",
      "60/60 - 1s - loss: 0.2299 - acc: 0.9889 - val_loss: 0.3746 - val_acc: 0.9091\n",
      "Epoch 34/50\n",
      "60/60 - 1s - loss: 0.2269 - acc: 0.9833 - val_loss: 0.3845 - val_acc: 0.9045\n",
      "Epoch 35/50\n",
      "60/60 - 1s - loss: 0.2075 - acc: 1.0000 - val_loss: 0.3844 - val_acc: 0.9091\n",
      "Epoch 36/50\n",
      "60/60 - 1s - loss: 0.2075 - acc: 1.0000 - val_loss: 0.3883 - val_acc: 0.8955\n",
      "Epoch 37/50\n",
      "60/60 - 1s - loss: 0.2084 - acc: 0.9944 - val_loss: 0.3953 - val_acc: 0.8955\n",
      "Epoch 38/50\n",
      "60/60 - 1s - loss: 0.2129 - acc: 1.0000 - val_loss: 0.3678 - val_acc: 0.9136\n",
      "Epoch 39/50\n",
      "60/60 - 1s - loss: 0.2060 - acc: 0.9944 - val_loss: 0.3658 - val_acc: 0.9000\n",
      "Epoch 40/50\n",
      "60/60 - 1s - loss: 0.2028 - acc: 0.9944 - val_loss: 0.3974 - val_acc: 0.9000\n",
      "Epoch 41/50\n",
      "60/60 - 1s - loss: 0.1883 - acc: 1.0000 - val_loss: 0.3876 - val_acc: 0.9091\n",
      "Epoch 42/50\n",
      "60/60 - 1s - loss: 0.1945 - acc: 1.0000 - val_loss: 0.3694 - val_acc: 0.9091\n",
      "Epoch 43/50\n",
      "60/60 - 1s - loss: 0.1993 - acc: 0.9944 - val_loss: 0.3787 - val_acc: 0.9091\n",
      "Epoch 44/50\n",
      "60/60 - 1s - loss: 0.1871 - acc: 1.0000 - val_loss: 0.3749 - val_acc: 0.9045\n",
      "Epoch 45/50\n",
      "60/60 - 1s - loss: 0.1813 - acc: 1.0000 - val_loss: 0.3851 - val_acc: 0.9045\n",
      "Epoch 46/50\n",
      "60/60 - 1s - loss: 0.1750 - acc: 1.0000 - val_loss: 0.3848 - val_acc: 0.9091\n",
      "Epoch 47/50\n",
      "60/60 - 1s - loss: 0.1862 - acc: 0.9833 - val_loss: 0.3695 - val_acc: 0.9091\n",
      "Epoch 48/50\n",
      "60/60 - 1s - loss: 0.1748 - acc: 1.0000 - val_loss: 0.3681 - val_acc: 0.9091\n",
      "Epoch 49/50\n",
      "60/60 - 1s - loss: 0.1928 - acc: 0.9833 - val_loss: 0.3613 - val_acc: 0.9000\n",
      "Epoch 50/50\n",
      "60/60 - 1s - loss: 0.1737 - acc: 1.0000 - val_loss: 0.3955 - val_acc: 0.9000\n"
     ]
    },
    {
     "data": {
      "image/png": "[encoded data removed]",
      "text/plain": [
       "<Figure size 432x288 with 2 Axes>"
      ]
     },
     "metadata": {
      "needs_background": "light"
     },
     "output_type": "display_data"
    }
   ],
   "source": [
    "res = clf_model.fit(X_train, y_train.reshape(-1, 1), epochs=50, batch_size=3,\n",
    "              validation_data=(X_val, y_val.reshape(-1, 1)), verbose=2)\n",
    "\n",
    "plot_history(res)"
   ]
  },
  {
   "cell_type": "code",
   "execution_count": 14,
   "id": "68529d0a",
   "metadata": {
    "execution": {
     "iopub.execute_input": "2021-08-22T09:53:26.721341Z",
     "iopub.status.busy": "2021-08-22T09:53:26.720511Z",
     "iopub.status.idle": "2021-08-22T09:53:26.735935Z",
     "shell.execute_reply": "2021-08-22T09:53:26.735501Z",
     "shell.execute_reply.started": "2021-08-22T09:43:04.701147Z"
    },
    "papermill": {
     "duration": 0.28131,
     "end_time": "2021-08-22T09:53:26.736055",
     "exception": false,
     "start_time": "2021-08-22T09:53:26.454745",
     "status": "completed"
    },
    "tags": []
   },
   "outputs": [],
   "source": [
    "test_filenames = os.listdir(\"test/\")\n",
    "test_df = pd.DataFrame({\n",
    "    'filename': test_filenames\n",
    "})\n",
    "nb_samples = test_df.shape[0]"
   ]
  },
  {
   "cell_type": "code",
   "execution_count": 15,
   "id": "7778d80a",
   "metadata": {
    "execution": {
     "iopub.execute_input": "2021-08-22T09:53:27.308464Z",
     "iopub.status.busy": "2021-08-22T09:53:27.307593Z",
     "iopub.status.idle": "2021-08-22T09:53:27.568535Z",
     "shell.execute_reply": "2021-08-22T09:53:27.568967Z",
     "shell.execute_reply.started": "2021-08-22T09:43:05.827306Z"
    },
    "papermill": {
     "duration": 0.531969,
     "end_time": "2021-08-22T09:53:27.569116",
     "exception": false,
     "start_time": "2021-08-22T09:53:27.037147",
     "status": "completed"
    },
    "tags": []
   },
   "outputs": [
    {
     "data": {
      "text/html": [
       "<div>\n",
       "<style scoped>\n",
       "    .dataframe tbody tr th:only-of-type {\n",
       "        vertical-align: middle;\n",
       "    }\n",
       "\n",
       "    .dataframe tbody tr th {\n",
       "        vertical-align: top;\n",
       "    }\n",
       "\n",
       "    .dataframe thead th {\n",
       "        text-align: right;\n",
       "    }\n",
       "</style>\n",
       "<table border=\"1\" class=\"dataframe\">\n",
       "  <thead>\n",
       "    <tr style=\"text-align: right;\">\n",
       "      <th></th>\n",
       "      <th>filename</th>\n",
       "    </tr>\n",
       "  </thead>\n",
       "  <tbody>\n",
       "    <tr>\n",
       "      <th>0</th>\n",
       "      <td>1.jpg</td>\n",
       "    </tr>\n",
       "    <tr>\n",
       "      <th>1</th>\n",
       "      <td>10.jpg</td>\n",
       "    </tr>\n",
       "    <tr>\n",
       "      <th>2</th>\n",
       "      <td>100.jpg</td>\n",
       "    </tr>\n",
       "    <tr>\n",
       "      <th>3</th>\n",
       "      <td>1000.jpg</td>\n",
       "    </tr>\n",
       "    <tr>\n",
       "      <th>4</th>\n",
       "      <td>10000.jpg</td>\n",
       "    </tr>\n",
       "  </tbody>\n",
       "</table>\n",
       "</div>"
      ],
      "text/plain": [
       "    filename\n",
       "0      1.jpg\n",
       "1     10.jpg\n",
       "2    100.jpg\n",
       "3   1000.jpg\n",
       "4  10000.jpg"
      ]
     },
     "execution_count": 15,
     "metadata": {},
     "output_type": "execute_result"
    }
   ],
   "source": [
    "test_df.head()"
   ]
  },
  {
   "cell_type": "code",
   "execution_count": 16,
   "id": "c7f816d2",
   "metadata": {
    "execution": {
     "iopub.execute_input": "2021-08-22T09:53:28.131857Z",
     "iopub.status.busy": "2021-08-22T09:53:28.125568Z",
     "iopub.status.idle": "2021-08-22T09:53:28.206863Z",
     "shell.execute_reply": "2021-08-22T09:53:28.207317Z",
     "shell.execute_reply.started": "2021-08-22T09:43:07.402369Z"
    },
    "papermill": {
     "duration": 0.373951,
     "end_time": "2021-08-22T09:53:28.207455",
     "exception": false,
     "start_time": "2021-08-22T09:53:27.833504",
     "status": "completed"
    },
    "tags": []
   },
   "outputs": [
    {
     "name": "stdout",
     "output_type": "stream",
     "text": [
      "Found 80 validated image filenames.\n"
     ]
    }
   ],
   "source": [
    "test_datagen = datagen.flow_from_dataframe(\n",
    "    test_df, \n",
    "    \"test/\",\n",
    "    x_col='filename',\n",
    "    y_col=None,\n",
    "    class_mode=None,\n",
    "    target_size=(224, 224),\n",
    "    batch_size=3,\n",
    "    shuffle=False\n",
    ")"
   ]
  },
  {
   "cell_type": "code",
   "execution_count": null,
   "id": "18f6250b",
   "metadata": {
    "execution": {
     "iopub.execute_input": "2021-08-22T09:53:28.734996Z",
     "iopub.status.busy": "2021-08-22T09:53:28.734423Z",
     "iopub.status.idle": "2021-08-22T09:53:28.739193Z",
     "shell.execute_reply": "2021-08-22T09:53:28.738769Z",
     "shell.execute_reply.started": "2021-08-22T09:43:09.661474Z"
    },
    "papermill": {
     "duration": 0.269352,
     "end_time": "2021-08-22T09:53:28.739313",
     "exception": false,
     "start_time": "2021-08-22T09:53:28.469961",
     "status": "completed"
    },
    "tags": []
   },
   "outputs": [],
   "source": [
    "print(int(12500 / 32) * 32)"
   ]
  },
  {
   "cell_type": "code",
   "execution_count": 17,
   "id": "c4ca26c6",
   "metadata": {
    "execution": {
     "iopub.execute_input": "2021-08-22T09:53:29.270859Z",
     "iopub.status.busy": "2021-08-22T09:53:29.269470Z",
     "iopub.status.idle": "2021-08-22T09:53:29.275438Z",
     "shell.execute_reply": "2021-08-22T09:53:29.275012Z",
     "shell.execute_reply.started": "2021-08-22T09:43:11.162844Z"
    },
    "papermill": {
     "duration": 0.272423,
     "end_time": "2021-08-22T09:53:29.275557",
     "exception": false,
     "start_time": "2021-08-22T09:53:29.003134",
     "status": "completed"
    },
    "tags": []
   },
   "outputs": [],
   "source": [
    "X_test = np.zeros((80, 512), dtype=np.float32)"
   ]
  },
  {
   "cell_type": "code",
   "execution_count": 18,
   "id": "0588181f",
   "metadata": {
    "execution": {
     "iopub.execute_input": "2021-08-22T09:53:29.810806Z",
     "iopub.status.busy": "2021-08-22T09:53:29.810277Z",
     "iopub.status.idle": "2021-08-22T09:54:49.099074Z",
     "shell.execute_reply": "2021-08-22T09:54:49.098323Z",
     "shell.execute_reply.started": "2021-08-22T09:43:12.376356Z"
    },
    "papermill": {
     "duration": 79.554552,
     "end_time": "2021-08-22T09:54:49.099234",
     "exception": false,
     "start_time": "2021-08-22T09:53:29.544682",
     "status": "completed"
    },
    "tags": []
   },
   "outputs": [
    {
     "name": "stderr",
     "output_type": "stream",
     "text": [
      "100%|████████████████████████████████████████████████████████████████████████████████████████████| 27/27 [12:23<00:00, 27.55s/it]\n"
     ]
    }
   ],
   "source": [
    "for i in tqdm(range(0, 80, 3)):\n",
    "    batch = test_datagen.next()\n",
    "    X_test[i:i + 3] = model_feature_extractor.predict(batch)\n"
   ]
  },
  {
   "cell_type": "code",
   "execution_count": 20,
   "id": "f1d03652",
   "metadata": {
    "execution": {
     "iopub.execute_input": "2021-08-22T09:54:50.567575Z",
     "iopub.status.busy": "2021-08-22T09:54:50.566766Z",
     "iopub.status.idle": "2021-08-22T09:54:50.856985Z",
     "shell.execute_reply": "2021-08-22T09:54:50.856495Z",
     "shell.execute_reply.started": "2021-08-22T09:45:02.590266Z"
    },
    "papermill": {
     "duration": 0.655841,
     "end_time": "2021-08-22T09:54:50.857123",
     "exception": false,
     "start_time": "2021-08-22T09:54:50.201282",
     "status": "completed"
    },
    "tags": []
   },
   "outputs": [],
   "source": [
    "preds = clf_model.predict(X_test)"
   ]
  },
  {
   "cell_type": "code",
   "execution_count": 27,
   "id": "ef74a7c7",
   "metadata": {
    "execution": {
     "iopub.execute_input": "2021-08-22T09:54:51.599534Z",
     "iopub.status.busy": "2021-08-22T09:54:51.598733Z",
     "iopub.status.idle": "2021-08-22T09:54:51.627527Z",
     "shell.execute_reply": "2021-08-22T09:54:51.627924Z",
     "shell.execute_reply.started": "2021-08-22T09:45:03.955486Z"
    },
    "papermill": {
     "duration": 0.407697,
     "end_time": "2021-08-22T09:54:51.628064",
     "exception": false,
     "start_time": "2021-08-22T09:54:51.220367",
     "status": "completed"
    },
    "tags": []
   },
   "outputs": [],
   "source": [
    "for i in range(len(preds)):\n",
    "    if preds[i] >= 0.5:\n",
    "        preds[i] = 1\n",
    "    else:\n",
    "        preds[i] = 0"
   ]
  },
  {
   "cell_type": "code",
   "execution_count": 24,
   "id": "a86e2a01",
   "metadata": {
    "execution": {
     "iopub.execute_input": "2021-08-22T09:54:52.360765Z",
     "iopub.status.busy": "2021-08-22T09:54:52.359955Z",
     "iopub.status.idle": "2021-08-22T09:54:52.398475Z",
     "shell.execute_reply": "2021-08-22T09:54:52.397658Z",
     "shell.execute_reply.started": "2021-08-22T09:45:05.055416Z"
    },
    "papermill": {
     "duration": 0.407962,
     "end_time": "2021-08-22T09:54:52.398600",
     "exception": false,
     "start_time": "2021-08-22T09:54:51.990638",
     "status": "completed"
    },
    "tags": []
   },
   "outputs": [
    {
     "data": {
      "text/html": [
       "<div>\n",
       "<style scoped>\n",
       "    .dataframe tbody tr th:only-of-type {\n",
       "        vertical-align: middle;\n",
       "    }\n",
       "\n",
       "    .dataframe tbody tr th {\n",
       "        vertical-align: top;\n",
       "    }\n",
       "\n",
       "    .dataframe thead th {\n",
       "        text-align: right;\n",
       "    }\n",
       "</style>\n",
       "<table border=\"1\" class=\"dataframe\">\n",
       "  <thead>\n",
       "    <tr style=\"text-align: right;\">\n",
       "      <th></th>\n",
       "      <th>id</th>\n",
       "      <th>target</th>\n",
       "    </tr>\n",
       "  </thead>\n",
       "  <tbody>\n",
       "    <tr>\n",
       "      <th>0</th>\n",
       "      <td>1</td>\n",
       "      <td>1.0</td>\n",
       "    </tr>\n",
       "    <tr>\n",
       "      <th>1</th>\n",
       "      <td>2</td>\n",
       "      <td>0.0</td>\n",
       "    </tr>\n",
       "    <tr>\n",
       "      <th>2</th>\n",
       "      <td>3</td>\n",
       "      <td>0.0</td>\n",
       "    </tr>\n",
       "    <tr>\n",
       "      <th>3</th>\n",
       "      <td>4</td>\n",
       "      <td>1.0</td>\n",
       "    </tr>\n",
       "    <tr>\n",
       "      <th>4</th>\n",
       "      <td>5</td>\n",
       "      <td>1.0</td>\n",
       "    </tr>\n",
       "    <tr>\n",
       "      <th>5</th>\n",
       "      <td>6</td>\n",
       "      <td>0.0</td>\n",
       "    </tr>\n",
       "    <tr>\n",
       "      <th>6</th>\n",
       "      <td>7</td>\n",
       "      <td>1.0</td>\n",
       "    </tr>\n",
       "    <tr>\n",
       "      <th>7</th>\n",
       "      <td>8</td>\n",
       "      <td>1.0</td>\n",
       "    </tr>\n",
       "    <tr>\n",
       "      <th>8</th>\n",
       "      <td>9</td>\n",
       "      <td>1.0</td>\n",
       "    </tr>\n",
       "    <tr>\n",
       "      <th>9</th>\n",
       "      <td>10</td>\n",
       "      <td>0.0</td>\n",
       "    </tr>\n",
       "  </tbody>\n",
       "</table>\n",
       "</div>"
      ],
      "text/plain": [
       "   id  target\n",
       "0   1     1.0\n",
       "1   2     0.0\n",
       "2   3     0.0\n",
       "3   4     1.0\n",
       "4   5     1.0\n",
       "5   6     0.0\n",
       "6   7     1.0\n",
       "7   8     1.0\n",
       "8   9     1.0\n",
       "9  10     0.0"
      ]
     },
     "execution_count": 24,
     "metadata": {},
     "output_type": "execute_result"
    }
   ],
   "source": [
    "predictions = pd.DataFrame()\n",
    "predictions[\"id\"] = np.arange(1, 81)\n",
    "predictions[\"target\"] = preds\n",
    "\n",
    "predictions.to_csv('Pejman_submission.csv', index=False, header=predictions.columns)\n",
    "predictions.head(10)"
   ]
  },
  {
   "cell_type": "code",
   "execution_count": 25,
   "id": "beba0f7f",
   "metadata": {
    "execution": {
     "iopub.execute_input": "2021-08-22T09:54:53.149412Z",
     "iopub.status.busy": "2021-08-22T09:54:53.148547Z",
     "iopub.status.idle": "2021-08-22T09:54:53.155339Z",
     "shell.execute_reply": "2021-08-22T09:54:53.154931Z",
     "shell.execute_reply.started": "2021-08-22T09:45:06.503376Z"
    },
    "papermill": {
     "duration": 0.37662,
     "end_time": "2021-08-22T09:54:53.155450",
     "exception": false,
     "start_time": "2021-08-22T09:54:52.778830",
     "status": "completed"
    },
    "tags": []
   },
   "outputs": [
    {
     "data": {
      "text/plain": [
       "0.0    47\n",
       "1.0    33\n",
       "Name: target, dtype: int64"
      ]
     },
     "execution_count": 25,
     "metadata": {},
     "output_type": "execute_result"
    }
   ],
   "source": [
    "predictions['target'].value_counts()"
   ]
  },
  {
   "cell_type": "code",
   "execution_count": 28,
   "id": "eb7d3e4b",
   "metadata": {
    "papermill": {
     "duration": 0.364233,
     "end_time": "2021-08-22T09:54:53.886721",
     "exception": false,
     "start_time": "2021-08-22T09:54:53.522488",
     "status": "completed"
    },
    "tags": []
   },
   "outputs": [],
   "source": [
    "\n",
    "np.save('X_train.npy', X_train)\n",
    "np.save('y_train.npy', y_train)\n",
    "np.save('X_val.npy', X_val)\n",
    "np.save('y_val.npy', y_val)\n",
    "np.save('X_test.npy', X_test)\n",
    "\n"
   ]
  }
 ],
 "metadata": {
  "kernelspec": {
   "display_name": "Python 3",
   "language": "python",
   "name": "python3"
  },
  "language_info": {
   "codemirror_mode": {
    "name": "ipython",
    "version": 3
   },
   "file_extension": ".py",
   "mimetype": "text/x-python",
   "name": "python",
   "nbconvert_exporter": "python",
   "pygments_lexer": "ipython3",
   "version": "3.9.6"
  },
  "papermill": {
   "default_parameters": {},
   "duration": 348.845427,
   "end_time": "2021-08-22T09:54:56.804161",
   "environment_variables": {},
   "exception": null,
   "input_path": "__notebook__.ipynb",
   "output_path": "__notebook__.ipynb",
   "parameters": {},
   "start_time": "2021-08-22T09:49:07.958734",
   "version": "2.3.3"
  }
 },
 "nbformat": 4,
 "nbformat_minor": 5
}
