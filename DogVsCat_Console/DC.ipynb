{
 "cells": [
  {
   "cell_type": "code",
   "execution_count": null,
   "id": "3ab62e07",
   "metadata": {},
   "outputs": [],
   "source": [
    "from silence_tensorflow import silence_tensorflow\n",
    "silence_tensorflow()\n",
    "from tensorflow.keras.applications.vgg16 import VGG16, preprocess_input\n",
    "from tensorflow.keras.preprocessing.image import ImageDataGenerator\n",
    "from tensorflow.keras.layers import Input, GlobalMaxPooling2D\n",
    "from tensorflow.keras.models import load_model, Model\n",
    "import numpy as np\n",
    "import sys"
   ]
  },
  {
   "cell_type": "code",
   "execution_count": null,
   "id": "0d208a13",
   "metadata": {},
   "outputs": [],
   "source": [
    "message = input(\"\"\"This program is classify cats and dogs images, \n",
    "    Please put your image in the image directory and the program will Tell you !,\n",
    "     Are you sure : Y or N:\\n\"\"\")\n",
    "if message == \"Y\":\n",
    "    print(\"Ok lets Do it !!!! \")\n",
    "else :\n",
    "    sys.exit()\n",
    "\n"
   ]
  },
  {
   "cell_type": "code",
   "execution_count": null,
   "id": "f0d1463c",
   "metadata": {},
   "outputs": [],
   "source": [
    "datagen = ImageDataGenerator(rescale=1./255 ,preprocessing_function=preprocess_input)"
   ]
  },
  {
   "cell_type": "code",
   "execution_count": null,
   "id": "6539f690",
   "metadata": {},
   "outputs": [],
   "source": [
    "test_datagen = datagen.flow_from_directory('image',\n",
    "                                            batch_size=1,\n",
    "                                            shuffle=False\n",
    "                                            )\n",
    "if len(test_datagen) > 1:\n",
    "    print(\"Error More Than One Image\")\n",
    "    sys.exit()"
   ]
  },
  {
   "cell_type": "code",
   "execution_count": null,
   "id": "9918979d",
   "metadata": {},
   "outputs": [],
   "source": [
    "model = VGG16(weights='imagenet', include_top=False)\n",
    "\n",
    "inp = Input(shape=(224, 224, 3), batch_size=1)\n",
    "\n",
    "x = model(inp)\n",
    "x = GlobalMaxPooling2D()(x)\n",
    "\n",
    "model_feature_extractor = Model(inputs=[inp], outputs=[x])\n",
    "X_test = np.zeros((1, 512), dtype=np.float32)\n",
    "X_test = model_feature_extractor.predict(test_datagen)"
   ]
  },
  {
   "cell_type": "code",
   "execution_count": null,
   "id": "0ede19be",
   "metadata": {},
   "outputs": [],
   "source": [
    "new_model =load_model('DogVsCat/my_model')"
   ]
  },
  {
   "cell_type": "code",
   "execution_count": null,
   "id": "d758460e",
   "metadata": {},
   "outputs": [],
   "source": [
    "preds = new_model.predict(X_test)"
   ]
  },
  {
   "cell_type": "code",
   "execution_count": null,
   "id": "f798a64d",
   "metadata": {},
   "outputs": [],
   "source": [
    "if preds[0] >= 0.5:\n",
    "    print(\"The Image Contains a Dog\")\n",
    "else:\n",
    "    print(\"The Image Contains a Cat\")                        "
   ]
  },
  {
   "cell_type": "code",
   "execution_count": null,
   "id": "36aae652",
   "metadata": {},
   "outputs": [],
   "source": []
  }
 ],
 "metadata": {
  "kernelspec": {
   "display_name": "Python 3",
   "language": "python",
   "name": "python3"
  },
  "language_info": {
   "codemirror_mode": {
    "name": "ipython",
    "version": 3
   },
   "file_extension": ".py",
   "mimetype": "text/x-python",
   "name": "python",
   "nbconvert_exporter": "python",
   "pygments_lexer": "ipython3",
   "version": "3.9.6"
  }
 },
 "nbformat": 4,
 "nbformat_minor": 5
}
